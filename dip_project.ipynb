{
  "nbformat": 4,
  "nbformat_minor": 0,
  "metadata": {
    "colab": {
      "name": "Untitled0.ipynb",
      "provenance": [],
      "include_colab_link": true
    },
    "kernelspec": {
      "name": "python3",
      "display_name": "Python 3"
    },
    "language_info": {
      "name": "python"
    }
  },
  "cells": [
    {
      "cell_type": "markdown",
      "metadata": {
        "id": "view-in-github",
        "colab_type": "text"
      },
      "source": [
        "<a href=\"https://colab.research.google.com/github/SebiBarson/DIP_Project/blob/sebastian/dip_project.ipynb\" target=\"_parent\"><img src=\"https://colab.research.google.com/assets/colab-badge.svg\" alt=\"Open In Colab\"/></a>"
      ]
    },
    {
      "cell_type": "markdown",
      "metadata": {
        "id": "esyrVgCj6dcP"
      },
      "source": [
        "**Edge detection using morphological operations**\n",
        "\n",
        "Step 1: importing libraries"
      ]
    },
    {
      "cell_type": "code",
      "metadata": {
        "id": "biGlYuQULphb"
      },
      "source": [
        "import cv2\n",
        "import matplotlib.pyplot as plt\n",
        "import numpy as np"
      ],
      "execution_count": 105,
      "outputs": []
    },
    {
      "cell_type": "markdown",
      "metadata": {
        "id": "KXXnRU0G66XN"
      },
      "source": [
        "Step 2: importing image"
      ]
    },
    {
      "cell_type": "code",
      "metadata": {
        "id": "xG-rLlV3NEet"
      },
      "source": [
        "def toBackground(pixel):\n",
        "  if(isObjectPixel(pixel)):\n",
        "    return 225 - pixel\n",
        "  return pixel"
      ],
      "execution_count": 107,
      "outputs": []
    },
    {
      "cell_type": "code",
      "metadata": {
        "id": "4iErzYPmPjVi"
      },
      "source": [
        "def toObject(pixel):\n",
        "  if(isObjectPixel(pixel) != True):\n",
        "    return 225 - pixel\n",
        "  return pixel"
      ],
      "execution_count": 108,
      "outputs": []
    },
    {
      "cell_type": "code",
      "metadata": {
        "id": "bqInsxOX7BBV"
      },
      "source": [
        "def isObjectPixel(pixel):\n",
        "  if(pixel < 113):\n",
        "    return True\n",
        "  return False"
      ],
      "execution_count": 109,
      "outputs": []
    },
    {
      "cell_type": "code",
      "metadata": {
        "id": "c2fK8ZLuMo3P"
      },
      "source": [
        "def expandImg(image):\n",
        "  result = np.zeros([len(image), len(image[0])]).astype(int)\n",
        "  h = len(image)\n",
        "  w = len(image[0])\n",
        "\n",
        "  for i in range(1, h):\n",
        "    for j in range(1, w):\n",
        "      if(isObjectPixel(image[i][j])):\n",
        "        result[i][j] = image[i][j]\n",
        "\n",
        "  #body:\n",
        "  for i in range(1, h-1):\n",
        "    for j in range(1, w-1):\n",
        "      if(isObjectPixel(image[i-1][j]) or isObjectPixel(image[i+1][j]) or isObjectPixel(image[i][j-1]) or isObjectPixel(image[i][j+1])):\n",
        "        result[i][j] = toObject(image[i][j])\n",
        "\n",
        "  #sides:\n",
        "  for j in range(1, w-1):\n",
        "      if(isObjectPixel(image[1][j]) or isObjectPixel(image[0][j-1]) or isObjectPixel(image[0][j+1])):\n",
        "        result[0][j] = toObject(image[0][j])\n",
        "      if(isObjectPixel(image[h-2][j]) or isObjectPixel(image[h-1][j-1]) or isObjectPixel(image[h-1][j+1])):\n",
        "        result[h-1][j] = toObject(image[h-1][j])\n",
        "\n",
        "  for i in range(1, h-1):\n",
        "      if(isObjectPixel(image[i-1][0]) or isObjectPixel(image[i+1][0]) or isObjectPixel(image[i][1])):\n",
        "        result[i][0] = toObject(image[i][0])\n",
        "      if(isObjectPixel(image[i-1][w-1]) or isObjectPixel(image[i+1][w-1]) or isObjectPixel(image[i][w-2])):\n",
        "        result[i][w-1] = toObject(image[i][w-1])\n",
        "\n",
        "  #corners:\n",
        "  if(isObjectPixel(image[1][0]) or isObjectPixel(image[0][1])):\n",
        "    result[0][0] = toObject(image[0][0])\n",
        "  if(isObjectPixel(image[0][w-2]) or isObjectPixel(image[1][w-1])):\n",
        "    result[0][w-1] = toObject(image[0][w-1])\n",
        "  if(isObjectPixel(image[h-1][1]) or isObjectPixel(image[h-2][0])):\n",
        "    result[h-1][0] = toObject(image[h-1][0])\n",
        "  if(isObjectPixel(image[h-2][w-1]) or isObjectPixel(image[h-1][w-2])):\n",
        "    result[h-1][w-1] = toObject(image[h-1][w-1])\n",
        "\n",
        "  return result"
      ],
      "execution_count": 125,
      "outputs": []
    },
    {
      "cell_type": "code",
      "metadata": {
        "id": "evSPB4jlhWXc"
      },
      "source": [
        "def erodeImg(image):\n",
        "  result = np.zeros([len(image), len(image[0])]).astype(int)\n",
        "  h = len(image)\n",
        "  w = len(image[0])\n",
        "  \n",
        "  #body:\n",
        "  for i in range(1, h-1):\n",
        "    for j in range(1, w-1):\n",
        "      if(isObjectPixel(image[i-1][j]) and isObjectPixel(image[i+1][j]) and isObjectPixel(image[i][j-1]) and isObjectPixel(image[i][j+1])):\n",
        "        result[i][j] = toObject(image[i][j])\n",
        "\n",
        "  #sides:\n",
        "  for j in range(1, w-1):\n",
        "      if(isObjectPixel(image[1][j]) and isObjectPixel(image[0][j-1]) and isObjectPixel(image[0][j+1])):\n",
        "        result[0][j] = toObject(image[0][j])\n",
        "      if(isObjectPixel(image[h-2][j]) and isObjectPixel(image[h-1][j-1]) and isObjectPixel(image[h-1][j+1])):\n",
        "        result[h-1][j] = toObject(image[h-1][j])\n",
        "\n",
        "  for i in range(1, h-1):\n",
        "      if(isObjectPixel(image[i-1][0]) and isObjectPixel(image[i+1][0]) and isObjectPixel(image[i][1])):\n",
        "        result[i][0] = toObject(image[i][0])\n",
        "      if(isObjectPixel(image[i-1][w-1]) and isObjectPixel(image[i+1][w-1]) and isObjectPixel(image[i][w-2])):\n",
        "        result[i][w-1] = toObject(image[i][w-1])\n",
        "\n",
        "  #corners:\n",
        "  if(isObjectPixel(image[1][0]) and isObjectPixel(image[0][1])):\n",
        "    result[0][0] = toObject(image[0][0])\n",
        "  if(isObjectPixel(image[0][w-2]) and isObjectPixel(image[1][w-1])):\n",
        "    result[0][w-1] = toObject(image[0][w-1])\n",
        "  if(isObjectPixel(image[h-1][1]) and isObjectPixel(image[h-2][0])):\n",
        "    result[h-1][0] = toObject(image[h-1][0])\n",
        "  if(isObjectPixel(image[h-2][w-1]) and isObjectPixel(image[h-1][w-2])):\n",
        "    result[h-1][w-1] = toObject(image[h-1][w-1])\n",
        "\n",
        "  return result"
      ],
      "execution_count": 111,
      "outputs": []
    },
    {
      "cell_type": "code",
      "metadata": {
        "id": "Glqoptu7iCJY"
      },
      "source": [
        "def openImg(image):\n",
        "  return expandImg(erodeImg(image))"
      ],
      "execution_count": 112,
      "outputs": []
    },
    {
      "cell_type": "code",
      "metadata": {
        "id": "kdYOETSxiZNq"
      },
      "source": [
        "def closeImg(image):\n",
        "  return erodeImg(expandImg(image))"
      ],
      "execution_count": 113,
      "outputs": []
    },
    {
      "cell_type": "code",
      "metadata": {
        "id": "xaLrrwbbyhOY"
      },
      "source": [
        "InputIm_FileName=\"img.png\"\n",
        "InImg=cv2.imread(InputIm_FileName,0)"
      ],
      "execution_count": 116,
      "outputs": []
    },
    {
      "cell_type": "code",
      "metadata": {
        "id": "95OHHa8xyqJX",
        "outputId": "4e3ad7e1-b182-4a43-f33c-9732d7e9e458",
        "colab": {
          "base_uri": "https://localhost:8080/",
          "height": 1000
        }
      },
      "source": [
        "H,W=InImg.shape\n",
        "DPI=40\n",
        "plt.figure(figsize=(W/DPI+10,H/DPI+10))\n",
        "plt.imshow(InImg,cmap = 'gray')\n",
        "plt.show()\n",
        "\n",
        "plt.figure(figsize=(W/DPI+10,H/DPI+10))\n",
        "plt.imshow(expandImg(InImg),cmap = 'gray')\n",
        "plt.show()\n",
        "\n",
        "plt.figure(figsize=(W/DPI+10,H/DPI+10))\n",
        "plt.imshow(erodeImg(InImg),cmap = 'gray')\n",
        "plt.show()"
      ],
      "execution_count": 126,
      "outputs": [
        {
          "output_type": "display_data",
          "data": {
            "image/png": "[encoded data removed]",
            "text/plain": [
              "<Figure size 851.4x808.2 with 1 Axes>"
            ]
          },
          "metadata": {
            "needs_background": "light"
          }
        },
        {
          "output_type": "display_data",
          "data": {
            "image/png": "[encoded data removed]",
            "text/plain": [
              "<Figure size 851.4x808.2 with 1 Axes>"
            ]
          },
          "metadata": {
            "needs_background": "light"
          }
        },
        {
          "output_type": "display_data",
          "data": {
            "image/png": "[encoded data removed]",
            "text/plain": [
              "<Figure size 851.4x808.2 with 1 Axes>"
            ]
          },
          "metadata": {
            "needs_background": "light"
          }
        }
      ]
    },
    {
      "cell_type": "code",
      "metadata": {
        "id": "aPyvlyYLDQf0"
      },
      "source": [
        ""
      ],
      "execution_count": 114,
      "outputs": []
    }
  ]
}