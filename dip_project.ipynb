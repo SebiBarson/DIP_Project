{
  "nbformat": 4,
  "nbformat_minor": 0,
  "metadata": {
    "colab": {
      "name": "Untitled0.ipynb",
      "provenance": [],
      "include_colab_link": true
    },
    "kernelspec": {
      "name": "python3",
      "display_name": "Python 3"
    },
    "language_info": {
      "name": "python"
    }
  },
  "cells": [
    {
      "cell_type": "markdown",
      "metadata": {
        "id": "view-in-github",
        "colab_type": "text"
      },
      "source": [
        "<a href=\"https://colab.research.google.com/github/SebiBarson/DIP_Project/blob/sebastian/dip_project.ipynb\" target=\"_parent\"><img src=\"https://colab.research.google.com/assets/colab-badge.svg\" alt=\"Open In Colab\"/></a>"
      ]
    },
    {
      "cell_type": "markdown",
      "metadata": {
        "id": "esyrVgCj6dcP"
      },
      "source": [
        "**Edge detection using morphological operations**\n",
        "\n",
        "Step 1: importing libraries\n",
        "\n",
        "We will use:\n",
        "  - cv2 (OpenCV 2) for image actions (i.e. grayscale)\n",
        "  - matplotlib.pyplot for plotting images\n",
        "  - numpy for matrix manipulation"
      ]
    },
    {
      "cell_type": "code",
      "metadata": {
        "id": "biGlYuQULphb"
      },
      "source": [
        "import cv2\n",
        "import matplotlib.pyplot as plt\n",
        "import numpy as np"
      ],
      "execution_count": 130,
      "outputs": []
    },
    {
      "cell_type": "markdown",
      "metadata": {
        "id": "VnLTZiXYh1wd"
      },
      "source": [
        "Step 2: defining basic functions\n",
        "\n",
        "toBackground() converts an object pixel to a background pixel, leaving the background pixels alone"
      ]
    },
    {
      "cell_type": "code",
      "metadata": {
        "id": "xG-rLlV3NEet"
      },
      "source": [
        "def toBackground(pixel):\n",
        "  if(isObjectPixel(pixel)):\n",
        "    return 255 - pixel\n",
        "  else:\n",
        "    return pixel"
      ],
      "execution_count": 131,
      "outputs": []
    },
    {
      "cell_type": "markdown",
      "metadata": {
        "id": "OZnQABQWjKSg"
      },
      "source": [
        "toObject() converts a background pixel to an object pixel, leaving the object pixels alone"
      ]
    },
    {
      "cell_type": "code",
      "metadata": {
        "id": "4iErzYPmPjVi"
      },
      "source": [
        "def toObject(pixel):\n",
        "  if(isObjectPixel(pixel)):\n",
        "    return pixel\n",
        "  else:\n",
        "    return 254 - pixel"
      ],
      "execution_count": 132,
      "outputs": []
    },
    {
      "cell_type": "markdown",
      "metadata": {
        "id": "LgzfmWZRjauA"
      },
      "source": [
        "isObjectPixel() returns True if the pixel is considered an object pixel and False otherwise"
      ]
    },
    {
      "cell_type": "code",
      "metadata": {
        "id": "bqInsxOX7BBV"
      },
      "source": [
        "def isObjectPixel(pixel):\n",
        "  if(pixel < 127):\n",
        "    return True\n",
        "  else:\n",
        "    return False"
      ],
      "execution_count": 133,
      "outputs": []
    },
    {
      "cell_type": "markdown",
      "metadata": {
        "id": "pbvszX3SjlMJ"
      },
      "source": [
        "expandImg()\n",
        "Here we get into the morphological functions, this one implementing the expansion: Over every pixel a structural element is applied. If any object pixels are found in the structural element, the pixel becomes itself an object pixel. We first go over the \"body\" of the image: the image without the edges. Then, we analyze the edges, and finally the corner pixels."
      ]
    },
    {
      "cell_type": "code",
      "metadata": {
        "id": "c2fK8ZLuMo3P"
      },
      "source": [
        "def expandImg(image):\n",
        "  result = np.zeros([len(image), len(image[0])]).astype(int)\n",
        "  h = len(image)\n",
        "  w = len(image[0])\n",
        "\n",
        "  #body:\n",
        "  for i in range(1, h-1):\n",
        "    for j in range(1, w-1):\n",
        "      if(isObjectPixel(image[i-1][j]) or isObjectPixel(image[i+1][j]) or isObjectPixel(image[i][j-1]) or isObjectPixel(image[i][j+1])):\n",
        "        result[i][j] = toObject(image[i][j])\n",
        "\n",
        "  #sides:\n",
        "  for j in range(1, w-1):\n",
        "      if(isObjectPixel(image[1][j]) or isObjectPixel(image[0][j-1]) or isObjectPixel(image[0][j+1])):\n",
        "        result[0][j] = toObject(image[0][j])\n",
        "      if(isObjectPixel(image[h-2][j]) or isObjectPixel(image[h-1][j-1]) or isObjectPixel(image[h-1][j+1])):\n",
        "        result[h-1][j] = toObject(image[h-1][j])\n",
        "\n",
        "  for i in range(1, h-1):\n",
        "      if(isObjectPixel(image[i-1][0]) or isObjectPixel(image[i+1][0]) or isObjectPixel(image[i][1])):\n",
        "        result[i][0] = toObject(image[i][0])\n",
        "      if(isObjectPixel(image[i-1][w-1]) or isObjectPixel(image[i+1][w-1]) or isObjectPixel(image[i][w-2])):\n",
        "        result[i][w-1] = toObject(image[i][w-1])\n",
        "\n",
        "  #corners:\n",
        "  if(isObjectPixel(image[1][0]) or isObjectPixel(image[0][1])):\n",
        "    result[0][0] = toObject(image[0][0])\n",
        "  if(isObjectPixel(image[0][w-2]) or isObjectPixel(image[1][w-1])):\n",
        "    result[0][w-1] = toObject(image[0][w-1])\n",
        "  if(isObjectPixel(image[h-1][1]) or isObjectPixel(image[h-2][0])):\n",
        "    result[h-1][0] = toObject(image[h-1][0])\n",
        "  if(isObjectPixel(image[h-2][w-1]) or isObjectPixel(image[h-1][w-2])):\n",
        "    result[h-1][w-1] = toObject(image[h-1][w-1])\n",
        "\n",
        "  #original object pixels\n",
        "  for i in range(h):\n",
        "    for j in range(w):\n",
        "      if(isObjectPixel(image[i][j])):\n",
        "          result[i][j] = image[i][j]\n",
        "\n",
        "  return result"
      ],
      "execution_count": 134,
      "outputs": []
    },
    {
      "cell_type": "markdown",
      "metadata": {
        "id": "4_NpyxirkR-u"
      },
      "source": [
        "erodeImg() implements the erosion: Over every pixel a structural element is applied. If any background pixels are found in the structural element, the pixel becomes itself abackground pixel. We first go over the \"body\" of the image: the image without the edges. Then, we analyze the edges, and finally the corner pixels."
      ]
    },
    {
      "cell_type": "code",
      "metadata": {
        "id": "evSPB4jlhWXc"
      },
      "source": [
        "def erodeImg(image):\n",
        "  result = np.zeros([len(image), len(image[0])]).astype(int)\n",
        "  h = len(image)\n",
        "  w = len(image[0])\n",
        "  \n",
        "  for i in range(1, h):\n",
        "      for j in range(1, w):\n",
        "        if(isObjectPixel(image[i][j])):\n",
        "          result[i][j] = image[i][j]\n",
        "\n",
        "  #body:\n",
        "  for i in range(1, h-1):\n",
        "    for j in range(1, w-1):\n",
        "      if(((isObjectPixel(image[i-1][j]) == False)) or (isObjectPixel(image[i+1][j]) == False) or (isObjectPixel(image[i][j-1]) == False) or (isObjectPixel(image[i][j+1]) == False)):\n",
        "        result[i][j] = toBackground(image[i][j])\n",
        "\n",
        "  #sides:\n",
        "  for j in range(1, w-1):\n",
        "      if((isObjectPixel(image[1][j]) == False) or (isObjectPixel(image[0][j-1]) == False) or (isObjectPixel(image[0][j+1] == False))):\n",
        "        result[0][j] = toBackground(image[0][j])\n",
        "      if((isObjectPixel(image[h-2][j]) == False) or (isObjectPixel(image[h-1][j-1]) == False) or (isObjectPixel(image[h-1][j+1]) == False)):\n",
        "        result[h-1][j] = toBackground(image[h-1][j])\n",
        "\n",
        "  for i in range(1, h-1):\n",
        "      if((isObjectPixel(image[i-1][0]) == False) or (isObjectPixel(image[i+1][0]) == False) or (isObjectPixel(image[i][1]) == False)):\n",
        "        result[i][0] = toBackground(image[i][0])\n",
        "      if((isObjectPixel(image[i-1][w-1]) == False) or (isObjectPixel(image[i+1][w-1]) == False) or (isObjectPixel(image[i][w-2]) == False)):\n",
        "        result[i][w-1] = toBackground(image[i][w-1])\n",
        "\n",
        "  #corners:\n",
        "  if((isObjectPixel(image[1][0]) == False) or (isObjectPixel(image[0][1]) == False)):\n",
        "    result[0][0] = toBackground(image[0][0])\n",
        "  if((isObjectPixel(image[0][w-2]) == False) or (isObjectPixel(image[1][w-1]) == False)):\n",
        "    result[0][w-1] = toBackground(image[0][w-1])\n",
        "  if((isObjectPixel(image[h-1][1]) == False) or (isObjectPixel(image[h-2][0]) == False)):\n",
        "    result[h-1][0] = toBackground(image[h-1][0])\n",
        "  if((isObjectPixel(image[h-2][w-1]) == False) or (isObjectPixel(image[h-1][w-2]) == False)):\n",
        "    result[h-1][w-1] = toBackground(image[h-1][w-1])\n",
        "\n",
        "  \n",
        "  return result"
      ],
      "execution_count": 135,
      "outputs": []
    },
    {
      "cell_type": "markdown",
      "metadata": {
        "id": "xSrauWbFkv6V"
      },
      "source": [
        "By definition, opening an image means eroding it and then expanding the eroded image. The openImg() function does just that:"
      ]
    },
    {
      "cell_type": "code",
      "metadata": {
        "id": "Glqoptu7iCJY"
      },
      "source": [
        "def openImg(image):\n",
        "  return expandImg(erodeImg(image))"
      ],
      "execution_count": 136,
      "outputs": []
    },
    {
      "cell_type": "markdown",
      "metadata": {
        "id": "fCfhnIZRlE0V"
      },
      "source": [
        "By definition, closing an image means expanding it and then eroding the expanded image. The closeImg() function does just that:"
      ]
    },
    {
      "cell_type": "code",
      "metadata": {
        "id": "kdYOETSxiZNq"
      },
      "source": [
        "def closeImg(image):\n",
        "  return erodeImg(expandImg(image))"
      ],
      "execution_count": 137,
      "outputs": []
    },
    {
      "cell_type": "markdown",
      "metadata": {
        "id": "KXXnRU0G66XN"
      },
      "source": [
        "Time to import our image"
      ]
    },
    {
      "cell_type": "code",
      "metadata": {
        "id": "xaLrrwbbyhOY"
      },
      "source": [
        "InputIm_FileName=\"image.png\"\n",
        "InImg=cv2.imread(InputIm_FileName,0)"
      ],
      "execution_count": 138,
      "outputs": []
    },
    {
      "cell_type": "markdown",
      "metadata": {
        "id": "rTL1suS-lgmF"
      },
      "source": [
        "Here we test the morphological functions implemented previously"
      ]
    },
    {
      "cell_type": "code",
      "metadata": {
        "id": "95OHHa8xyqJX",
        "colab": {
          "base_uri": "https://localhost:8080/",
          "height": 619
        },
        "outputId": "0fbbb99f-07bc-47ce-9f02-a13646ec7a56"
      },
      "source": [
        "H,W=InImg.shape\n",
        "DPI=40\n",
        "plt.figure(figsize=(W/DPI+10,H/DPI+10))\n",
        "plt.imshow(InImg,cmap = 'gray')\n",
        "plt.show()"
      ],
      "execution_count": 139,
      "outputs": [
        {
          "output_type": "display_data",
          "data": {
            "image/png": "[encoded data removed]",
            "text/plain": [
              "<Figure size 756x756 with 1 Axes>"
            ]
          },
          "metadata": {
            "needs_background": "light"
          }
        }
      ]
    },
    {
      "cell_type": "code",
      "metadata": {
        "id": "kIYayBSgnJlJ",
        "colab": {
          "base_uri": "https://localhost:8080/",
          "height": 619
        },
        "outputId": "7d0ef384-2aad-4d82-ee25-a38cb900cafc"
      },
      "source": [
        "\n",
        "plt.figure(figsize=(W/DPI+10,H/DPI+10))\n",
        "plt.imshow(expandImg(InImg),cmap = 'gray')\n",
        "plt.show()"
      ],
      "execution_count": 140,
      "outputs": [
        {
          "output_type": "display_data",
          "data": {
            "image/png": "[encoded data removed]",
            "text/plain": [
              "<Figure size 756x756 with 1 Axes>"
            ]
          },
          "metadata": {
            "needs_background": "light"
          }
        }
      ]
    },
    {
      "cell_type": "code",
      "metadata": {
        "id": "BxnVYRRSnLwQ",
        "colab": {
          "base_uri": "https://localhost:8080/",
          "height": 619
        },
        "outputId": "fc4fae9e-eb88-4d3c-8030-9984b8b6b2d4"
      },
      "source": [
        "plt.figure(figsize=(W/DPI+10,H/DPI+10))\n",
        "plt.imshow(erodeImg(InImg),cmap = 'gray')\n",
        "plt.show()"
      ],
      "execution_count": 141,
      "outputs": [
        {
          "output_type": "display_data",
          "data": {
            "image/png": "[encoded data removed]",
            "text/plain": [
              "<Figure size 756x756 with 1 Axes>"
            ]
          },
          "metadata": {
            "needs_background": "light"
          }
        }
      ]
    },
    {
      "cell_type": "code",
      "metadata": {
        "id": "2xdTORJhnNnY",
        "colab": {
          "base_uri": "https://localhost:8080/",
          "height": 619
        },
        "outputId": "773783a8-3832-474a-d2f2-ba5cba0d1641"
      },
      "source": [
        "plt.figure(figsize=(W/DPI+10,H/DPI+10))\n",
        "plt.imshow(openImg(InImg),cmap = 'gray')\n",
        "plt.show()"
      ],
      "execution_count": 142,
      "outputs": [
        {
          "output_type": "display_data",
          "data": {
            "image/png": "[encoded data removed]",
            "text/plain": [
              "<Figure size 756x756 with 1 Axes>"
            ]
          },
          "metadata": {
            "needs_background": "light"
          }
        }
      ]
    },
    {
      "cell_type": "code",
      "metadata": {
        "id": "UXtxp15lnP1g",
        "colab": {
          "base_uri": "https://localhost:8080/",
          "height": 619
        },
        "outputId": "11ef429a-b083-40ad-d234-cccffe0a2fd2"
      },
      "source": [
        "plt.figure(figsize=(W/DPI+10,H/DPI+10))\n",
        "plt.imshow(closeImg(InImg),cmap = 'gray')\n",
        "plt.show()"
      ],
      "execution_count": 143,
      "outputs": [
        {
          "output_type": "display_data",
          "data": {
            "image/png": "[encoded data removed]",
            "text/plain": [
              "<Figure size 756x756 with 1 Axes>"
            ]
          },
          "metadata": {
            "needs_background": "light"
          }
        }
      ]
    }
  ]
}