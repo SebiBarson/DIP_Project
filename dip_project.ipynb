{
  "nbformat": 4,
  "nbformat_minor": 0,
  "metadata": {
    "colab": {
      "name": "Untitled0.ipynb",
      "provenance": [],
      "include_colab_link": true
    },
    "kernelspec": {
      "name": "python3",
      "display_name": "Python 3"
    },
    "language_info": {
      "name": "python"
    }
  },
  "cells": [
    {
      "cell_type": "markdown",
      "metadata": {
        "id": "view-in-github",
        "colab_type": "text"
      },
      "source": [
        "<a href=\"https://colab.research.google.com/github/SebiBarson/DIP_Project/blob/sebastian/dip_project.ipynb\" target=\"_parent\"><img src=\"https://colab.research.google.com/assets/colab-badge.svg\" alt=\"Open In Colab\"/></a>"
      ]
    },
    {
      "cell_type": "code",
      "metadata": {
        "id": "biGlYuQULphb"
      },
      "source": [
        "import cv2\n",
        "import matplotlib.pyplot as plt\n",
        "import numpy as np\n",
        "from scipy import fft"
      ],
      "execution_count": null,
      "outputs": []
    },
    {
      "cell_type": "code",
      "metadata": {
        "id": "xaLrrwbbyhOY"
      },
      "source": [
        "InputIm_FileName=\"castle_025_noisy.png\"\n",
        "InImg=cv2.imread(InputIm_FileName,0)"
      ],
      "execution_count": null,
      "outputs": []
    },
    {
      "cell_type": "code",
      "metadata": {
        "id": "95OHHa8xyqJX"
      },
      "source": [
        "H,W=InImg.shape\n",
        "DPI=40\n",
        "plt.figure(figsize=(W/DPI+1,H/DPI+1))\n",
        "plt.imshow(InImg,cmap = 'gray')\n",
        "plt.suptitle('The gray scale input image')\n",
        "plt.show()"
      ],
      "execution_count": null,
      "outputs": []
    },
    {
      "cell_type": "code",
      "metadata": {
        "id": "aPyvlyYLDQf0"
      },
      "source": [
        "class Pixel:\n",
        "  x=0\n",
        "  y=0\n",
        "\n",
        "  def __init__(x,y):\n",
        "    self.x = 0\n",
        "    self.y = 0\n",
        "\n",
        "  def structural_elem():\n",
        "    if x == 0:\n",
        "      if y == 0:\n",
        "        return [Pixel(x+1, y), Pixel(x, y+1)]\n",
        "      else:\n",
        "        return [Pixel(x+1, y), Pixel(x, y+1), Pixel(x, y-1)]\n",
        "    else:\n",
        "      if y == 0:\n",
        "        return [Pixel(x+1, y), Pixel(x, y+1), Pixel(x-1, y)]\n",
        "      else:\n",
        "        return [Pixel(x+1, y), Pixel(x, y+1), Pixel(x, y-1)]"
      ],
      "execution_count": null,
      "outputs": []
    }
  ]
}